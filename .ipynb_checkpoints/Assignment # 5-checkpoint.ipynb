{
 "cells": [
  {
   "cell_type": "markdown",
   "id": "01eaba89-b96c-4f58-b3cb-67012f3e50d9",
   "metadata": {},
   "source": [
    "# Assignment # 5"
   ]
  },
  {
   "cell_type": "markdown",
   "id": "690d659c-6aa5-47bc-a417-3b3ef857b85a",
   "metadata": {},
   "source": [
    "### Anas Sohail"
   ]
  },
  {
   "cell_type": "code",
   "execution_count": 18,
   "id": "c8193db8-920e-4c68-a778-150a25239f53",
   "metadata": {},
   "outputs": [
    {
     "name": "stdout",
     "output_type": "stream",
     "text": [
      "Method # 1\n"
     ]
    },
    {
     "name": "stdin",
     "output_type": "stream",
     "text": [
      "Enter record of Employee 1:  1, Anas, IT\n",
      "Enter record of Employee 2:  2, mujtaba, Finance\n",
      "Enter record of Employee 3:  3, Uzair, HR\n"
     ]
    },
    {
     "name": "stdout",
     "output_type": "stream",
     "text": [
      "('1, Anas, IT', '2, mujtaba, Finance', '3, Uzair, HR')\n",
      "\n",
      "Method # 2\n"
     ]
    },
    {
     "name": "stdin",
     "output_type": "stream",
     "text": [
      "Enter record of Employee 1:  1, Anas, IT\n",
      "Enter record of Employee 2:  2, mujtaba, Finance\n",
      "Enter record of Employee 3:  3, Uzair, HR\n"
     ]
    },
    {
     "name": "stdout",
     "output_type": "stream",
     "text": [
      "Record of Employee 1:- ('ID' = '1', 'Name' = ' Anas', 'Department' = ' IT')\n",
      "Record of Employee 2:- ('ID' = '2', 'Name' = ' mujtaba', 'Department' = ' Finance')\n",
      "Record of Employee 3:- ('ID' = '3', 'Name' = ' Uzair', 'Department' = ' HR')\n",
      "\n",
      "Method # 3\n"
     ]
    },
    {
     "name": "stdin",
     "output_type": "stream",
     "text": [
      "Enter record of Employee 1:  1, Anas, IT\n",
      "Enter record of Employee 2:  2, mujtaba, Finance\n",
      "Enter record of Employee 3:  3, Uzair, HR\n"
     ]
    },
    {
     "name": "stdout",
     "output_type": "stream",
     "text": [
      "Record of Employee:- ('ID' = '1', 'Name' = ' Anas', 'Department' = ' IT')\n",
      "Record of Employee:- ('ID' = '2', 'Name' = ' mujtaba', 'Department' = ' Finance')\n",
      "Record of Employee:- ('ID' = '3', 'Name' = ' Uzair', 'Department' = ' HR')\n"
     ]
    }
   ],
   "source": [
    "# 1. You need to store and manage employee records where each record includes an\n",
    "# employee's ID, name, and department. (Use tuples to represent each employee record).\n",
    "\n",
    "\n",
    "#Method 01:-\n",
    "print(\"Method # 1\")\n",
    "# Create a empty tuple:-\n",
    "employee_records = ()\n",
    "\n",
    "# take employee info inputs from user\n",
    "employee1 = input(\"Enter record of Employee 1: \")\n",
    "employee2 = input(\"Enter record of Employee 2: \")\n",
    "employee3 = input(\"Enter record of Employee 3: \")\n",
    "\n",
    "#Convert Tuple into list to append:-\n",
    "employee_records = list(employee_records)\n",
    "employee_records.append(employee1)\n",
    "employee_records.append(employee2)\n",
    "employee_records.append(employee3)\n",
    "\n",
    "#Convert back into tuple from list to print employee reccord into tuple\n",
    "employee_records = tuple(employee_records)\n",
    "\n",
    "#Print Employee's Record\n",
    "print(employee_records)\n",
    "\n",
    "\n",
    "#Method 02:-\n",
    "print()\n",
    "print(\"Method # 2\")\n",
    "# Take Employee's info inputs from user\n",
    "employee1 = tuple(input(\"Enter record of Employee 1: \").split(','))\n",
    "employee2 = tuple(input(\"Enter record of Employee 2: \").split(','))\n",
    "employee3 = tuple(input(\"Enter record of Employee 3: \").split(','))\n",
    "\n",
    "# Directly create a tuple with the employee records, and put input variables\n",
    "employee_records = (employee1, employee2, employee3)\n",
    "\n",
    "# print the employee_records\n",
    "print(f'''Record of Employee 1:- ('ID' = '{employee1[0]}', 'Name' = '{employee1[1]}', 'Department' = '{employee1[2]}')\n",
    "Record of Employee 2:- ('ID' = '{employee2[0]}', 'Name' = '{employee2[1]}', 'Department' = '{employee2[2]}')\n",
    "Record of Employee 3:- ('ID' = '{employee3[0]}', 'Name' = '{employee3[1]}', 'Department' = '{employee3[2]}')''')\n",
    "\n",
    "\n",
    "#Method 03:-\n",
    "print()\n",
    "print(\"Method # 3\")\n",
    "# Take Employee's info inputs from user\n",
    "employee1 = tuple(input(\"Enter record of Employee 1: \").split(','))\n",
    "employee2 = tuple(input(\"Enter record of Employee 2: \").split(','))\n",
    "employee3 = tuple(input(\"Enter record of Employee 3: \").split(','))\n",
    "\n",
    "# Directly create a tuple with the employee records, and put input variables\n",
    "employee_records = (employee1, employee2, employee3)\n",
    "\n",
    "# Using For loop to print employee record\n",
    "for records in employee_records:\n",
    "\n",
    "# print the employee_records\n",
    "    print(f\"Record of Employee:- ('ID' = '{records[0]}', 'Name' = '{records[1]}', 'Department' = '{records[2]}')\")"
   ]
  },
  {
   "cell_type": "code",
   "execution_count": 25,
   "id": "3ec2b09a-c444-4930-b98e-129df2de92cf",
   "metadata": {},
   "outputs": [
    {
     "name": "stdout",
     "output_type": "stream",
     "text": [
      "Method # 1\n"
     ]
    },
    {
     "name": "stdin",
     "output_type": "stream",
     "text": [
      "Enter record of Item 1:  01, Breads, 100pcs\n",
      "Enter record of Item 2:  02, Jems, 120pcs\n",
      "Enter record of Item 3:  03, Comels, 100boxes\n"
     ]
    },
    {
     "name": "stdout",
     "output_type": "stream",
     "text": [
      "('01, Breads, 100pcs', '02, Jems, 120pcs', '03, Comels, 100boxes')\n",
      "\n",
      "Method # 2\n"
     ]
    },
    {
     "name": "stdin",
     "output_type": "stream",
     "text": [
      "Enter record of Item 1:  04, Lays, 120pcs\n",
      "Enter record of Item 2:  05, Cocomo, 500pcs\n",
      "Enter record of Item 3:  06, Noodles, 104pcs\n"
     ]
    },
    {
     "name": "stdout",
     "output_type": "stream",
     "text": [
      "Record of Item 1:- ('ID' = '04', 'Description' = ' Lays', 'Quantity' = ' 120pcs')\n",
      "Record of Item 2:- ('ID' = '05', 'Description' = ' Cocomo', 'Quantity' = ' 500pcs')\n",
      "Record of Item 3:- ('ID' = '06', 'Description' = ' Noodles', 'Quantity' = ' 104pcs')\n",
      "\n",
      "Method # 3\n"
     ]
    },
    {
     "name": "stdin",
     "output_type": "stream",
     "text": [
      "Enter record of Item 1:  07, Mobiles, 100pcs\n",
      "Enter record of Item 2:  08, Tablets, 120pcs\n",
      "Enter record of Item 3:  09, Computers, 150pcs\n"
     ]
    },
    {
     "name": "stdout",
     "output_type": "stream",
     "text": [
      "Record of Item:- ('ID' = '07', 'Description' = 'Mobiles', 'Quantity' = '100pcs')\n",
      "Record of Item:- ('ID' = '08', 'Description' = 'Tablets', 'Quantity' = '120pcs')\n",
      "Record of Item:- ('ID' = '09', 'Description' = 'Computers', 'Quantity' = '150pcs')\n"
     ]
    }
   ],
   "source": [
    "# 2. You are managing an inventory system where each item has an item ID, description,\n",
    "# and quantity available. (Use tuples to represent each inventory item).\n",
    "\n",
    "\n",
    "#Method 01:-\n",
    "print(\"Method # 1\")\n",
    "# Create a empty tuple:-\n",
    "inventry_store = ()\n",
    "\n",
    "# take Item info inputs from user\n",
    "item1 = input(\"Enter record of Item 1: \")\n",
    "item2 = input(\"Enter record of Item 2: \")\n",
    "item3 = input(\"Enter record of Item 3: \")\n",
    "\n",
    "#Convert Tuple into list to append:-\n",
    "inventry_store = list(inventry_store)\n",
    "inventry_store.append(item1)\n",
    "inventry_store.append(item2)\n",
    "inventry_store.append(item3)\n",
    "\n",
    "#Convert back into tuple from list to print inventry_store into tuple\n",
    "inventry_store = tuple(inventry_store)\n",
    "\n",
    "#Print inventry_store\n",
    "print(inventry_store)\n",
    "\n",
    "\n",
    "#Method 02:-\n",
    "print()\n",
    "print(\"Method # 2\")\n",
    "\n",
    "# take Item info inputs from user\n",
    "item1 = tuple(input(\"Enter record of Item 1: \").split(','))\n",
    "item2 = tuple(input(\"Enter record of Item 2: \").split(','))\n",
    "item3 = tuple(input(\"Enter record of Item 3: \").split(','))\n",
    "\n",
    "# Directly create a tuple with the inventry_store, and put input variables\n",
    "inventry_store = (item1, item2, item3)\n",
    "\n",
    "# print the employee_records\n",
    "print(f'''Record of Item 1:- ('ID' = '{item1[0]}', 'Description' = '{item1[1]}', 'Quantity' = '{item1[2]}')\n",
    "Record of Item 2:- ('ID' = '{item2[0]}', 'Description' = '{item2[1]}', 'Quantity' = '{item2[2]}')\n",
    "Record of Item 3:- ('ID' = '{item3[0]}', 'Description' = '{item3[1]}', 'Quantity' = '{item3[2]}')''')\n",
    "\n",
    "\n",
    "#Method 03:-\n",
    "print()\n",
    "print(\"Method # 3\")\n",
    "# Take Items's info inputs from user\n",
    "item1 = tuple(input(\"Enter record of Item 1: \").split(', '))\n",
    "item2 = tuple(input(\"Enter record of Item 2: \").split(', '))\n",
    "item3 = tuple(input(\"Enter record of Item 3: \").split(', '))\n",
    "\n",
    "# Directly create a tuple with the inventry_store, and put input variables\n",
    "inventry_store = (item1, item2, item3)\n",
    "\n",
    "# Using For loop to print inventry_store:-\n",
    "for Items in inventry_store:\n",
    "\n",
    "# print the inventry_store:-\n",
    "    print(f\"Record of Item:- ('ID' = '{Items[0]}', 'Description' = '{Items[1]}', 'Quantity' = '{Items[2]}')\")"
   ]
  },
  {
   "cell_type": "code",
   "execution_count": 31,
   "id": "7236f4e2-3b7c-45db-8ff7-072df971c20c",
   "metadata": {},
   "outputs": [
    {
     "name": "stdout",
     "output_type": "stream",
     "text": [
      "\n",
      "Method # 1\n"
     ]
    },
    {
     "name": "stdin",
     "output_type": "stream",
     "text": [
      "Enter Date & Time of wedding:  \"10-09-2024\", \"22:00\"\n",
      "Enter Date & Time of Farewell:  \"13-08-2024\",\"14:00\"\n",
      "Enter Date & Time of Meeting:  \"21-08-2024\", \"09:00\"\n"
     ]
    },
    {
     "name": "stdout",
     "output_type": "stream",
     "text": [
      "\n",
      "Date & Time of wedding_schedule:- ('Date': '\"10-09-2024\"', 'Time': ' \"22:00\"')\n",
      "Date & Time of farewell_schedule:- ('Date': '\"13-08-2024\"', 'Time': '\"14:00\"')\n",
      "Date & Time of meeting_schedule:- ('Date': '\"21-08-2024\"', 'Time': ' \"09:00\"') \n",
      "\n",
      "Method # 2\n"
     ]
    },
    {
     "name": "stdin",
     "output_type": "stream",
     "text": [
      "Enter Date & Time of wedding:  \"10-09-2024\", \"22:00\"\n",
      "Enter Date & Time of Farewell:  \"13-08-2024\",\"14:00\"\n",
      "Enter Date & Time of Meeting:  \"21-08-2024\", \"09:00\"\n"
     ]
    },
    {
     "name": "stdout",
     "output_type": "stream",
     "text": [
      "\n",
      "Schedule of Wedding:- ('Date' = '\"10-09-2024\"', 'Time' = ' \"22:00\"')\n",
      "Schedule of Farewell:- ('Date' = '\"13-08-2024\"', 'Time' = '\"14:00\"')\n",
      "Schedule of Meeting:- ('Date' = '\"21-08-2024\"', 'Time' = ' \"09:00\"')\n"
     ]
    }
   ],
   "source": [
    "# 3. You need to store the dates and times of scheduled events, like meetings or\n",
    "# appointments. (Use tuples to store date and time information).\n",
    "\n",
    "\n",
    "#Method 01:-\n",
    "print()\n",
    "print(\"Method # 1\")\n",
    "\n",
    "# take Date & Time info inputs from user\n",
    "wedding_schedule = tuple(input(\"Enter Date & Time of wedding: \").split(','))\n",
    "farewell_schedule = tuple(input(\"Enter Date & Time of Farewell: \").split(','))\n",
    "meeting_schedule = tuple(input(\"Enter Date & Time of Meeting: \").split(','))\n",
    "print()\n",
    "\n",
    "# Directly create a tuple with the schedule_of_events, and put input variables\n",
    "schedule_of_events = (wedding_schedule, farewell_schedule, meeting_schedule)\n",
    "\n",
    "# print the schedule_of_events\n",
    "print(f'''Date & Time of wedding_schedule:- ('Date': '{wedding_schedule[0]}', 'Time': '{wedding_schedule[1]}')\n",
    "Date & Time of farewell_schedule:- ('Date': '{farewell_schedule[0]}', 'Time': '{farewell_schedule[1]}')\n",
    "Date & Time of meeting_schedule:- ('Date': '{meeting_schedule[0]}', 'Time': '{meeting_schedule[1]}') ''')\n",
    "\n",
    "\n",
    "#Method 02:-\n",
    "print()\n",
    "print(\"Method # 2\")\n",
    "\n",
    "# take Date & Time info inputs from user\n",
    "wedding_schedule = tuple(input(\"Enter Date & Time of wedding: \").split(','))\n",
    "farewell_schedule = tuple(input(\"Enter Date & Time of Farewell: \").split(','))\n",
    "meeting_schedule = tuple(input(\"Enter Date & Time of Meeting: \").split(','))\n",
    "print()\n",
    "\n",
    "# Directly create a tuple with the schedule_of_events, and put input variables\n",
    "schedule_of_events = ((\"Wedding\", wedding_schedule), (\"Farewell\", farewell_schedule), (\"Meeting\", meeting_schedule))\n",
    "\n",
    "# Using For loop to print inventry_store:-\n",
    "for event_name, Events in schedule_of_events:\n",
    "\n",
    "# print the inventry_store:-\n",
    "    print(f\"Schedule of {event_name}:- ('Date' = '{Events[0]}', 'Time' = '{Events[1]}')\")"
   ]
  },
  {
   "cell_type": "code",
   "execution_count": 108,
   "id": "44fb4e81-f229-4255-9428-b4cd89d40c98",
   "metadata": {},
   "outputs": [
    {
     "name": "stdout",
     "output_type": "stream",
     "text": [
      "Method # 1\n",
      "\n",
      "{'HR': {'101': {'Name': 'Anas', 'Age': 25}, '102': {'Name': 'Mujtaba', 'Age': 26}}, 'IT': {'101': {'Name': 'Ghulam', 'Age': 22}, '102': {'Name': 'Uzair', 'Age': 23}}}\n",
      "{'101': {'Name': 'Anas', 'Age': 25}, '102': {'Name': 'Mujtaba', 'Age': 26}}\n",
      "{'Name': 'Mujtaba', 'Age': 26}\n",
      "{'Name': 'Uzair', 'Age': 23}\n",
      "\n",
      "Method # 2\n",
      "\n"
     ]
    },
    {
     "name": "stdin",
     "output_type": "stream",
     "text": [
      "Enter Employee Depart:  IT\n",
      "Enter Employee ID:  102\n"
     ]
    },
    {
     "name": "stdout",
     "output_type": "stream",
     "text": [
      "\n",
      "Department: IT\n",
      "Employee ID: 102\n",
      "  Name: Uzair\n",
      "  Age: 23\n"
     ]
    }
   ],
   "source": [
    "# 4. Store a company's employee details, organized by department. (Use dictionary in dictionary).\n",
    "\n",
    "\n",
    "# Create dict of company_employee\n",
    "company_employee = {\n",
    "    \n",
    "# create nested dict \"Department\" in dict \"Company_emplouyee\"\n",
    "    \"department\" : {\n",
    "        \n",
    "# create nested dict \"HR\" in dict \"Department\"\n",
    "        \"HR\" : {\n",
    "\n",
    "# create nested dict \"101\", \"102\" in dict \"HR\"\n",
    "                \"101\" : {\n",
    "                    \"Name\" : \"Anas\",\n",
    "                    \"Age\" : 25\n",
    "                },\n",
    "                \"102\" : {\n",
    "                    \"Name\" : \"Mujtaba\",\n",
    "                    \"Age\" : 26\n",
    "                }   \n",
    "            },\n",
    "\n",
    "# create nested dict \"IT\" in dict \"Department\"\n",
    "        \"IT\" : {\n",
    "\n",
    "# create nested dict \"101\", \"102\" in dict \"IT\"\n",
    "                \"101\" : {\n",
    "                    \"Name\" : \"Ghulam\",\n",
    "                    \"Age\" : 22\n",
    "                },\n",
    "                \"102\" : {\n",
    "                    \"Name\" : \"Uzair\",\n",
    "                    \"Age\" : 23\n",
    "                } \n",
    "            }\n",
    "    }\n",
    "}\n",
    "\n",
    "# Method # 1\n",
    "print(\"Method # 1\")\n",
    "print()\n",
    "\n",
    "print(company_employee[\"department\"])\n",
    "print(company_employee[\"department\"][\"HR\"])\n",
    "print(company_employee[\"department\"][\"HR\"][\"102\"])\n",
    "print(company_employee[\"department\"][\"IT\"][\"102\"])\n",
    "print()\n",
    "\n",
    "\n",
    "#Method # 2\n",
    "print(\"Method # 2\")\n",
    "print()\n",
    "\n",
    "#Take inputs from user to enter depatment name & employee id:-\n",
    "input_depart = input(\"Enter Employee Depart: \")\n",
    "input_id = input(\"Enter Employee ID: \")\n",
    "print()\n",
    "\n",
    "# Iterate through each department in the company\n",
    "for department_name, department in company_employee[\"department\"].items():\n",
    "    \n",
    "    if department_name == input_depart:\n",
    "        \n",
    "# Check if the entered employee ID exists in the current department\n",
    "        if input_id in department:\n",
    "            employee_details = department[input_id]\n",
    "        \n",
    "        # Print the employee's details\n",
    "            print(f\"Department: {department_name}\")\n",
    "            print(f\"Employee ID: {input_id}\")\n",
    "            print(f\"  Name: {employee_details['Name']}\")\n",
    "            print(f\"  Age: {employee_details['Age']}\")\n",
    "            break\n",
    "\n",
    "# If the employee ID was not found in any department\n",
    "        else:\n",
    "            print(f\"Employee with ID {input_id} not found.\")\n",
    "            break\n",
    "\n",
    "# If the employee departmnet was not found in company\n",
    "else:\n",
    "    print(f\"Employee with department {input_depart} not found.\")"
   ]
  },
  {
   "cell_type": "code",
   "execution_count": 83,
   "id": "5f2f1006-e03c-41f1-9dff-11547b3afcc8",
   "metadata": {},
   "outputs": [
    {
     "name": "stdin",
     "output_type": "stream",
     "text": [
      "Enter ID Number:  104\n"
     ]
    },
    {
     "name": "stdout",
     "output_type": "stream",
     "text": [
      "Student ID: 104\n",
      "Name: Hammad\n",
      "Scores:\n",
      "  maths: 76\n",
      "  urdu: 67\n"
     ]
    }
   ],
   "source": [
    "# 5. Keep track of student scores in various subjects and retrieve a student's scores.\n",
    " # (Use dictionary in List).\n",
    "\n",
    "\n",
    "# List of student dictionaries\n",
    "students = [\n",
    "    {\n",
    "        \"id\": \"101\",\n",
    "        \"name\": \"Anas\",\n",
    "        \"scores\": {\n",
    "            \"maths\": 97,\n",
    "            \"urdu\": 90\n",
    "        }\n",
    "    },\n",
    "    {\n",
    "        \"id\": \"102\",\n",
    "        \"name\": \"Mujtaba\",\n",
    "        \"scores\": {\n",
    "            \"maths\": 87,\n",
    "            \"urdu\": 90\n",
    "        }\n",
    "    },\n",
    "    {\n",
    "        \"id\": \"103\",\n",
    "        \"name\": \"Uzair\",\n",
    "        \"scores\": {\n",
    "            \"maths\": 80,\n",
    "            \"urdu\": 70\n",
    "        }\n",
    "    },\n",
    "    {\n",
    "        \"id\": \"104\",\n",
    "        \"name\": \"Hammad\",\n",
    "        \"scores\": {\n",
    "            \"maths\": 76,\n",
    "            \"urdu\": 67\n",
    "        }\n",
    "    }\n",
    "]\n",
    "\n",
    "# Retrieve and print scores for a specific student by ID\n",
    "input_id = (input(\"Enter ID Number: \"))  \n",
    "\n",
    "# Access the student's details by filtering the list\n",
    "for student in students:\n",
    "    if student[\"id\"] == input_id:\n",
    "        print(f\"Student ID: {student['id']}\")\n",
    "        print(f\"Name: {student['name']}\")\n",
    "        print(\"Scores:\")\n",
    "        for subject, score in student[\"scores\"].items():\n",
    "            print(f\"  {subject}: {score}\")\n",
    "        break\n",
    "else:\n",
    "    print(f\"Student with ID {input_id} not found.\")"
   ]
  },
  {
   "cell_type": "code",
   "execution_count": 137,
   "id": "b0d03614-3f3d-4b6b-a8a3-f5ef356a2d90",
   "metadata": {},
   "outputs": [
    {
     "name": "stdout",
     "output_type": "stream",
     "text": [
      "Method # 1\n",
      "\n",
      "Deatail of Project no. 2 is: {'js_project_1': ['var_task', 'loop_task', 'string_task'], 'js_project_2': ['func_task', 'if_else_task', 'while_task']}\n",
      "Detail of python project 1 is: ['var_task', 'loop_task', 'operator_task']\n",
      "Detail of js project 2 is: ['func_task', 'if_else_task', 'while_task']\n",
      "\n",
      "Method # 2\n",
      "\n"
     ]
    },
    {
     "name": "stdin",
     "output_type": "stream",
     "text": [
      "Enter Main Project Name:  project_2\n",
      "Enter Sub Project Name:  js_project_2\n"
     ]
    },
    {
     "name": "stdout",
     "output_type": "stream",
     "text": [
      "Tasks for js_project_2:\n",
      "1. func_task\n",
      "2. if_else_task\n",
      "3. while_task\n"
     ]
    }
   ],
   "source": [
    "# 6. Track various projects and their associated tasks, and retrieve tasks for a specific\n",
    "# project. (Use List in Dictionary).\n",
    "\n",
    "company = {\n",
    "    \"project_1\": {\n",
    "        \"python_project_1\" : [\"var_task\", \"loop_task\", \"operator_task\"],\n",
    "        \"python_project_2\" : [\"func_task\", \"if_else_task\", \"lambda_task\"]\n",
    "    },\n",
    "    \n",
    "    \"project_2\" : {\n",
    "        \"js_project_1\" : [\"var_task\", \"loop_task\", \"string_task\"],\n",
    "        \"js_project_2\" : [\"func_task\", \"if_else_task\", \"while_task\"]\n",
    "    }\n",
    "}\n",
    "\n",
    "#Mehod # 1\n",
    "print(\"Method # 1\")\n",
    "print()\n",
    "\n",
    "# prints of detailed projects\n",
    "print(f\"Deatail of Project no. 2 is: {company[\"project_2\"]}\")\n",
    "print(f\"Detail of python project 1 is: {company[\"project_1\"][\"python_project_1\"]}\")\n",
    "print(f\"Detail of js project 2 is: {company[\"project_2\"][\"js_project_2\"]}\")\n",
    "\n",
    "\n",
    "#Mehod # 2\n",
    "print()\n",
    "print(\"Method # 2\")\n",
    "print()\n",
    "\n",
    "# Take inputs from user of main_project & sub_project\n",
    "input_main_project = input(\"Enter Main Project Name: \")\n",
    "input_sub_project = input(\"Enter Sub Project Name: \")\n",
    "\n",
    "\n",
    "# Iterate through each main project in the company\n",
    "for main_project, sub_projects in company.items():\n",
    "    \n",
    "# Check if the entered main-project exists in the main-projects\n",
    "    if input_main_project in main_project:\n",
    "        \n",
    "# Check if the entered sub-project exists in the sub-projects\n",
    "        if input_sub_project in sub_projects:  \n",
    "            \n",
    "# Retrieve and print the tasks for the specified sub-project\n",
    "            tasks = sub_projects[input_sub_project]\n",
    "            print(f\"Tasks for {input_sub_project}:\")\n",
    "\n",
    "# for loop to run task:\n",
    "            for i, task in enumerate(tasks, 1):\n",
    "                print(f\"{i}. {task}\")\n",
    "            break\n",
    "\n",
    "# If the sub-project was not found in the specified main project\n",
    "else:\n",
    "    print(f\"{input_sub_project} not found in {input_main_project}.\")"
   ]
  },
  {
   "cell_type": "code",
   "execution_count": 157,
   "id": "f5344e27-b825-4a3f-ab53-575e8dec05c2",
   "metadata": {},
   "outputs": [
    {
     "name": "stdin",
     "output_type": "stream",
     "text": [
      "Enter course name:  Python\n",
      "Enter module name:  Advanced Python\n"
     ]
    },
    {
     "name": "stdout",
     "output_type": "stream",
     "text": [
      "\n",
      "Module Name: Advanced Python\n",
      "\n",
      "Module duration: two weeks\n",
      "Module topics: ['OOP', 'Decorators', 'Generators']\n"
     ]
    }
   ],
   "source": [
    "# 7. Manage courses and their contents in a training program and retrieve details of a\n",
    "# specific module. (dictionary in dictionary)\n",
    "\n",
    "\n",
    "training_program = {\n",
    "    \"Python\": {\n",
    "        \"Introduction\": {\n",
    "            \"duration\": \"one week\",\n",
    "            \"topics\": [\"Syntax\", \"Variables\", \"Data Types\"]\n",
    "        },\n",
    "        \"Advanced Python\": {\n",
    "            \"duration\": \"two weeks\",\n",
    "            \"topics\": [\"OOP\", \"Decorators\", \"Generators\"]\n",
    "        }\n",
    "    },\n",
    "    \"Web Development\": {\n",
    "        \"HTML & CSS\": {\n",
    "            \"duration\": \"one week\",\n",
    "            \"topics\": [\"HTML Basics\", \"CSS Basics\", \"Responsive Design\"]\n",
    "        },\n",
    "        \"JavaScript\": {\n",
    "            \"duration\": \"two weeks\",\n",
    "            \"topics\": [\"ES6+\", \"DOM Manipulation\", \"APIs\"]\n",
    "        }\n",
    "    }\n",
    "}\n",
    "\n",
    "input_course = input(\"Enter course name: \")\n",
    "input_module = input(\"Enter module name: \")\n",
    "print()\n",
    "\n",
    "for course_name, module_name in training_program.items():\n",
    "    if input_course in course_name:\n",
    "        if input_module in module_name:\n",
    "            module = module_name[input_module]\n",
    "            print(f\"Module Name: {input_module}\")\n",
    "            print()\n",
    "            print(f\"Module duration: {module[\"duration\"]}\")\n",
    "            print(f\"Module topics: {module[\"topics\"]}\")\n",
    "\n",
    "        else:\n",
    "            print(input_module, \"module not found\")\n",
    "        break\n",
    "else:\n",
    "    print(input_module, \"module not found in \", input_course, \"course.\")\n"
   ]
  },
  {
   "cell_type": "code",
   "execution_count": 150,
   "id": "41b75b7c-e51f-4759-a631-7d12c2ed44d9",
   "metadata": {},
   "outputs": [
    {
     "name": "stdin",
     "output_type": "stream",
     "text": [
      "Enter threshold Number:  90\n"
     ]
    },
    {
     "name": "stdout",
     "output_type": "stream",
     "text": [
      "\n",
      "Product detail below the given threshold: \n",
      "\n",
      "bread: 110\n",
      "Blue band: 150\n"
     ]
    }
   ],
   "source": [
    "# 8.You have a list where each element is a tuple containing a product's name and its\n",
    "# price. You need to find products that are below a certain price threshold. (Use unpacking\n",
    "# lists of tuples)\n",
    "\n",
    "\n",
    "input_threshold = int(input(\"Enter threshold Number: \"))\n",
    "print()\n",
    "products = [(\"bread\", 110), (\"jem\", 50), (\"Blue band\", 150), (\"Comel\", 90)]\n",
    "\n",
    "print(\"Product detail below the given threshold: \")\n",
    "print()\n",
    "for name, price in products:\n",
    "    if input_threshold < price:    \n",
    "        print(f\"{name}: {price}\")"
   ]
  },
  {
   "cell_type": "code",
   "execution_count": null,
   "id": "d78bb811-7366-482b-bc47-380d98de0c80",
   "metadata": {},
   "outputs": [],
   "source": []
  }
 ],
 "metadata": {
  "kernelspec": {
   "display_name": "Python 3 (ipykernel)",
   "language": "python",
   "name": "python3"
  },
  "language_info": {
   "codemirror_mode": {
    "name": "ipython",
    "version": 3
   },
   "file_extension": ".py",
   "mimetype": "text/x-python",
   "name": "python",
   "nbconvert_exporter": "python",
   "pygments_lexer": "ipython3",
   "version": "3.12.4"
  }
 },
 "nbformat": 4,
 "nbformat_minor": 5
}
